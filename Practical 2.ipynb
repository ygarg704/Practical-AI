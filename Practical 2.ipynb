{
 "cells": [
  {
   "cell_type": "markdown",
   "metadata": {
    "colab_type": "text",
    "id": "h-47G4nF1lBG"
   },
   "source": [
    "<h1>Lab 2: 8 Puzzle Single Player Game (BFS)</h1>"
   ]
  },
  {
   "cell_type": "code",
   "execution_count": 1,
   "metadata": {
    "colab": {},
    "colab_type": "code",
    "id": "rcBUwpzpAcr-"
   },
   "outputs": [],
   "source": [
    "#Import the necessary libraries\n",
    "from time import time\n",
    "from queue import Queue"
   ]
  },
  {
   "cell_type": "code",
   "execution_count": 2,
   "metadata": {
    "colab": {},
    "colab_type": "code",
    "id": "bBHJzbPW6pH-"
   },
   "outputs": [],
   "source": [
    "#Creating a class Puzzle\n",
    "class Puzzle:\n",
    "    #Setting the goal state of 8-puzzle \n",
    "    goal_state=[1,2,3,8,0,4,7,6,5]\n",
    "    num_of_instances=0\n",
    "    #constructor to initialize the class members\n",
    "    def __init__(self,state,parent,action):\n",
    "        self.parent=parent\n",
    "        self.state=state\n",
    "        self.action=action        \n",
    "        #TODO: incrementing the number of instance by 1\n",
    "        Puzzle.num_of_instances+= 1\n",
    "   \n",
    "    #function used to display a state of 8-puzzle\n",
    "    def __str__(self):\n",
    "        return str(self.state[0:3])+'\\n'+str(self.state[3:6])+'\\n'+str(self.state[6:9])\n",
    "\n",
    "    #method to compare the current state with the goal state\n",
    "    def goal_test(self):\n",
    "        #TODO: include a condition to compare the current state with the goal state\n",
    "        if self.state == Puzzle.goal_state:\n",
    "            return True\n",
    "        return False\n",
    "    \n",
    "    #static method to find the legal action based on the current board position\n",
    "    @staticmethod\n",
    "    def find_legal_actions(i,j):\n",
    "        legal_action = ['U', 'D', 'L', 'R']\n",
    "        if i == 0:  \n",
    "            # if row is 0 in board then up is disable\n",
    "            legal_action.remove('U')\n",
    "        elif i == 2:  \n",
    "            legal_action.remove('D')\n",
    "        if j == 0: \n",
    "            legal_action.remove('L')\n",
    "        elif j == 2:\n",
    "            legal_action.remove('R')\n",
    "\n",
    "        return legal_action\n",
    "\n",
    "    #method to generate the child of the current state of the board\n",
    "    def generate_child(self):\n",
    "        #TODO: create an empty list\n",
    "        children=[]\n",
    "        x = self.state.index(0)\n",
    "        i = int(x / 3)\n",
    "        j = int(x % 3)\n",
    "        #TODO: call the method to find the legal actions based on i and j values\n",
    "        legal_actions = Puzzle.find_legal_actions(i,j)\n",
    "\n",
    "        #TODO:Iterate over all legal actions \n",
    "        for action in legal_actions:\n",
    "            new_state = self.state.copy()\n",
    "            #if the legal action is UP\n",
    "            if action=='U':\n",
    "                #Swapping between current index of 0 with its up element on the board\n",
    "                new_state[x], new_state[x-3] = new_state[x-3], new_state[x]\n",
    "            elif action=='D':\n",
    "                #TODO: Swapping between current index of 0 with its down element on the board\n",
    "                new_state[x], new_state[x+3] = new_state[x+3], new_state[x]\n",
    "            elif action=='L':\n",
    "                #TODO: Swapping between the current index of 0 with its left element on the board\n",
    "                new_state[x], new_state[x-1] = new_state[x-1], new_state[x]\n",
    "            elif action=='R':\n",
    "                #TODO: Swapping between the current index of 0 with its right element on the board\n",
    "                new_state[x], new_state[x+1] = new_state[x+1], new_state[x]\n",
    "            children.append(Puzzle(new_state,self,action))\n",
    "        #TODO: return the children\n",
    "        return children\n",
    "    #method to find the solution\n",
    "    def find_solution(self):\n",
    "        solution = []\n",
    "        solution.append(self.action)\n",
    "        path = self\n",
    "        while path.parent != None:\n",
    "            path = path.parent\n",
    "            solution.append(path.action)\n",
    "        solution = solution[:-1]\n",
    "        solution.reverse()\n",
    "        return solution"
   ]
  },
  {
   "cell_type": "code",
   "execution_count": 3,
   "metadata": {
    "colab": {},
    "colab_type": "code",
    "id": "WMcheK0f93H6"
   },
   "outputs": [],
   "source": [
    "#method for breadth first search\n",
    "#TODO: pass the initial_state as parameter to the breadth_first_search method \n",
    "def breadth_first_search(initial_state):\n",
    "    start_node = Puzzle(initial_state, None, None)\n",
    "    print(\"Initial state:\")\n",
    "    print(start_node)\n",
    "    if start_node.goal_test():\n",
    "        return start_node.find_solution()\n",
    "    q = Queue()\n",
    "    #TODO: put start_node into the Queue\n",
    "    q.put(start_node)\n",
    "    #TODO: create an empty list of explored nodes\n",
    "    explored=[]\n",
    "    #TODO: Iterate the queue until empty. Use the empty() method of Queue\n",
    "    while not(q.empty()):\n",
    "        #TODO: get the current node of a queue. Use the get() method of Queue\n",
    "        node=q.get()\n",
    "        #TODO: Append the state of node in the explored list as node.state\n",
    "        explored.append(node.state)\n",
    "        #TODO: call the generate_child method to generate the child nodes of current node\n",
    "        children=Puzzle.generate_child(node)\n",
    "        #TODO: Iterate over each child node in children\n",
    "        for child in children:\n",
    "            if child.state not in explored:\n",
    "                if child.goal_test():\n",
    "                    return child.find_solution()\n",
    "                q.put(child)\n",
    "    return"
   ]
  },
  {
   "cell_type": "code",
   "execution_count": 4,
   "metadata": {
    "colab": {},
    "colab_type": "code",
    "id": "YY1EiLOk95Du"
   },
   "outputs": [
    {
     "name": "stdout",
     "output_type": "stream",
     "text": [
      "Initial state:\n",
      "[1, 3, 4]\n",
      "[8, 6, 2]\n",
      "[7, 0, 5]\n",
      "BFS: ['U', 'R', 'U', 'L', 'D']\n",
      "space: 66\n",
      "time: 0.0020859241485595703\n",
      "\n",
      "Initial state:\n",
      "[2, 8, 1]\n",
      "[0, 4, 3]\n",
      "[7, 6, 5]\n",
      "BFS: ['U', 'R', 'R', 'D', 'L', 'L', 'U', 'R', 'D']\n",
      "space: 591\n",
      "time: 0.019245624542236328\n",
      "\n",
      "Initial state:\n",
      "[2, 8, 1]\n",
      "[4, 6, 3]\n",
      "[0, 7, 5]\n",
      "BFS: ['R', 'U', 'L', 'U', 'R', 'R', 'D', 'L', 'L', 'U', 'R', 'D']\n",
      "space: 2956\n",
      "time: 0.06805133819580078\n",
      "\n",
      "------------------------------------------\n"
     ]
    }
   ],
   "source": [
    "#Start executing the 8-puzzle with setting up the initial state\n",
    "#Here we have considered 3 initial state intitalized using state variable\n",
    "state=[[1, 3, 4,\n",
    "        8, 6, 2,\n",
    "        7, 0, 5],\n",
    "\n",
    "       [2, 8, 1,\n",
    "        0, 4, 3,\n",
    "        7, 6, 5],\n",
    "\n",
    "       [2, 8, 1,\n",
    "        4, 6, 3,\n",
    "        0, 7, 5]]\n",
    "#Iterate over number of initial_state\n",
    "for i in range(0,3):\n",
    "    #TODO: Initialize the num_of_instances to zero\n",
    "    Puzzle.num_of_instances=0\n",
    "    #Set t0 to current time\n",
    "    t0=time()\n",
    "    bfs=breadth_first_search(state[i])\n",
    "    #Get the time t1 after executing the breadth_first_search method\n",
    "    t1=time()-t0\n",
    "    print('BFS:', bfs)\n",
    "    print('space:',Puzzle.num_of_instances)\n",
    "    print('time:',t1)\n",
    "    print()\n",
    "print('------------------------------------------')"
   ]
  }
 ],
 "metadata": {
  "colab": {
   "collapsed_sections": [],
   "name": "Lab2_8 Puzzle Single Player Game (BFS).ipynb",
   "provenance": []
  },
  "kernelspec": {
   "display_name": "Python 3",
   "language": "python",
   "name": "python3"
  },
  "language_info": {
   "codemirror_mode": {
    "name": "ipython",
    "version": 3
   },
   "file_extension": ".py",
   "mimetype": "text/x-python",
   "name": "python",
   "nbconvert_exporter": "python",
   "pygments_lexer": "ipython3",
   "version": "3.8.8"
  }
 },
 "nbformat": 4,
 "nbformat_minor": 1
}
