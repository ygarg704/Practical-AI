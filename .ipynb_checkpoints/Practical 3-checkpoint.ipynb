{
 "cells": [
  {
   "cell_type": "markdown",
   "metadata": {},
   "source": [
    "# Lab 3: 8 Puzzle Single Player Game (A* Algorithm)"
   ]
  },
  {
   "cell_type": "code",
   "execution_count": 1,
   "metadata": {
    "colab": {},
    "colab_type": "code",
    "id": "rcBUwpzpAcr-"
   },
   "outputs": [],
   "source": [
    "from time import time\n",
    "from queue import PriorityQueue\n",
    "import math"
   ]
  },
  {
   "cell_type": "code",
   "execution_count": 2,
   "metadata": {
    "colab": {},
    "colab_type": "code",
    "id": "bBHJzbPW6pH-"
   },
   "outputs": [],
   "source": [
    "class Puzzle:\n",
    "    goal_state=[1,2,3,8,0,4,7,6,5]\n",
    "    heuristic=None\n",
    "    evaluation_function=None\n",
    "    needs_hueristic=False\n",
    "    num_of_instances=0\n",
    "    def __init__(self,state,parent,action,path_cost,needs_hueristic=False):\n",
    "        self.parent=parent\n",
    "        self.state=state\n",
    "        self.action=action\n",
    "        if parent:\n",
    "            self.path_cost = parent.path_cost + path_cost\n",
    "        else:\n",
    "            self.path_cost = path_cost\n",
    "        if needs_hueristic:\n",
    "            self.needs_hueristic=True\n",
    "            self.generate_heuristic()\n",
    "            self.evaluation_function=self.heuristic+self.path_cost\n",
    "        Puzzle.num_of_instances+=1\n",
    "\n",
    "    def __str__(self):\n",
    "        return str(self.state[0:3])+'\\n'+str(self.state[3:6])+'\\n'+str(self.state[6:9])\n",
    "\n",
    "    def generate_heuristic(self):\n",
    "        self.heuristic=0\n",
    "        for num in range(1,9):\n",
    "            distance=abs(self.state.index(num) - self.goal_state.index(num))\n",
    "            i=int(distance/3)\n",
    "            j=int(distance%3)\n",
    "            self.heuristic=self.heuristic+i+j\n",
    "\n",
    "    def goal_test(self):\n",
    "        if self.state == self.goal_state:\n",
    "            return True\n",
    "        return False\n",
    "\n",
    "    @staticmethod\n",
    "    def find_legal_actions(i,j):\n",
    "        legal_action = ['U', 'D', 'L', 'R']\n",
    "        if i == 0:  # up is disable\n",
    "            legal_action.remove('U')\n",
    "        elif i == 2:  # down is disable\n",
    "            legal_action.remove('D')\n",
    "        if j == 0:\n",
    "            legal_action.remove('L')\n",
    "        elif j == 2:\n",
    "            legal_action.remove('R')\n",
    "        return legal_action\n",
    "\n",
    "    def generate_child(self):\n",
    "        children=[]\n",
    "        x = self.state.index(0)\n",
    "        i = int(x / 3)\n",
    "        j = int(x % 3)\n",
    "        legal_actions=self.find_legal_actions(i,j)\n",
    "\n",
    "        for action in legal_actions:\n",
    "            new_state = self.state.copy()\n",
    "            if action == 'U':\n",
    "                new_state[x], new_state[x-3] = new_state[x-3], new_state[x]\n",
    "            elif action == 'D':\n",
    "                new_state[x], new_state[x+3] = new_state[x+3], new_state[x]\n",
    "            elif action == 'L':\n",
    "                new_state[x], new_state[x-1] = new_state[x-1], new_state[x]\n",
    "            elif action == 'R':\n",
    "                new_state[x], new_state[x+1] = new_state[x+1], new_state[x]\n",
    "            children.append(Puzzle(new_state,self,action,1,self.needs_hueristic))\n",
    "        return children\n",
    "\n",
    "    def find_solution(self):\n",
    "        solution = []\n",
    "        solution.append(self.action)\n",
    "        path = self\n",
    "        while path.parent != None:\n",
    "            path = path.parent\n",
    "            solution.append(path.action)\n",
    "        solution = solution[:-1]\n",
    "        solution.reverse()\n",
    "        return solution"
   ]
  },
  {
   "cell_type": "code",
   "execution_count": 3,
   "metadata": {
    "colab": {},
    "colab_type": "code",
    "id": "WMcheK0f93H6"
   },
   "outputs": [],
   "source": [
    "def Astar_search(initial_state):\n",
    "    count=0\n",
    "    explored=[]\n",
    "    start_node=Puzzle(initial_state,None,None,0,True)\n",
    "    q = PriorityQueue()\n",
    "    q.put((start_node.evaluation_function,count,start_node))\n",
    "\n",
    "    while not q.empty():\n",
    "        node=q.get()\n",
    "        node=node[2]\n",
    "        explored.append(node.state)\n",
    "        if node.goal_test():\n",
    "            return node.find_solution()\n",
    "\n",
    "        children=node.generate_child()\n",
    "        for child in children:\n",
    "            if child.state not in explored:\n",
    "                count += 1\n",
    "                q.put((child.evaluation_function,count,child))\n",
    "    return"
   ]
  },
  {
   "cell_type": "code",
   "execution_count": 4,
   "metadata": {
    "colab": {
     "base_uri": "https://localhost:8080/",
     "height": 238
    },
    "colab_type": "code",
    "id": "YY1EiLOk95Du",
    "outputId": "570ac2b4-93f5-47bb-92b1-39a2a30cf2ac"
   },
   "outputs": [
    {
     "name": "stdout",
     "output_type": "stream",
     "text": [
      "A*: ['U', 'R', 'U', 'L', 'D']\n",
      "space: 16\n",
      "time: 0.0009305477142333984\n",
      "\n",
      "A*: ['U', 'R', 'R', 'D', 'L', 'L', 'U', 'R', 'D']\n",
      "space: 42\n",
      "time: 0.0019366741180419922\n",
      "\n",
      "A*: ['R', 'U', 'L', 'U', 'R', 'R', 'D', 'L', 'L', 'U', 'R', 'D']\n",
      "space: 95\n",
      "time: 0.004247426986694336\n",
      "\n",
      "------------------------------------------\n"
     ]
    }
   ],
   "source": [
    "#Start executing the 8-puzzle with setting up the initial state\n",
    "#Here we have considered 3 initial state intitalized using state variable\n",
    "state=[[1, 3, 4,\n",
    "        8, 6, 2,\n",
    "        7, 0, 5],\n",
    "\n",
    "       [2, 8, 1,\n",
    "        0, 4, 3,\n",
    "        7, 6, 5],\n",
    "\n",
    "       [2, 8, 1,\n",
    "        4, 6, 3,\n",
    "        0, 7, 5]]\n",
    "\n",
    "for i in range(0,3):\n",
    "    Puzzle.num_of_instances = 0\n",
    "    t0 = time()\n",
    "    astar = Astar_search(state[i])\n",
    "    t1 = time() - t0\n",
    "    print('A*:',astar)\n",
    "    print('space:', Puzzle.num_of_instances)\n",
    "    print('time:', t1)\n",
    "    print()\n",
    "print('------------------------------------------')"
   ]
  }
 ],
 "metadata": {
  "colab": {
   "collapsed_sections": [],
   "name": "Solution_Lab2_8 Puzzle Single Player Game (BFS).ipynb",
   "provenance": []
  },
  "kernelspec": {
   "display_name": "Python 3",
   "language": "python",
   "name": "python3"
  },
  "language_info": {
   "codemirror_mode": {
    "name": "ipython",
    "version": 3
   },
   "file_extension": ".py",
   "mimetype": "text/x-python",
   "name": "python",
   "nbconvert_exporter": "python",
   "pygments_lexer": "ipython3",
   "version": "3.8.8"
  }
 },
 "nbformat": 4,
 "nbformat_minor": 1
}
