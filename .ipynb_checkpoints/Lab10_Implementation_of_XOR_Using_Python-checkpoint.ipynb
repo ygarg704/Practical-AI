{
 "cells": [
  {
   "cell_type": "markdown",
   "metadata": {},
   "source": [
    "# Practical 8 (Implementation of XOR using Python)"
   ]
  },
  {
   "cell_type": "code",
   "execution_count": 1,
   "metadata": {},
   "outputs": [],
   "source": [
    "#Import the necessary library\n",
    "import numpy as np \n",
    "#np.random.seed(0)"
   ]
  },
  {
   "cell_type": "code",
   "execution_count": 2,
   "metadata": {},
   "outputs": [],
   "source": [
    "#TODO: write the sigmoid function sig(x) = 1/(1+e^-x)\n",
    "def sigmoid (x):\n",
    "    return (1/(1+ np.exp(-x)))"
   ]
  },
  {
   "cell_type": "code",
   "execution_count": 3,
   "metadata": {},
   "outputs": [],
   "source": [
    "#TODO: write the derivative of sigmoid function sig'(x) = x * (1-x)\n",
    "def sigmoid_derivative(x):\n",
    "    return x*(1-x)"
   ]
  },
  {
   "cell_type": "code",
   "execution_count": 4,
   "metadata": {},
   "outputs": [],
   "source": [
    "#Set the Input datasets\n",
    "inputs = np.array([[0,0],[0,1],[1,0],[1,1]])\n",
    "#Set the expected output\n",
    "expected_output = np.array([[0],[1],[1],[1]])"
   ]
  },
  {
   "cell_type": "code",
   "execution_count": 5,
   "metadata": {},
   "outputs": [],
   "source": [
    "#TODO:Set the epoch as 10000\n",
    "epochs = 10000\n",
    "#TODO:Set the learning rate as 0.1\n",
    "lr = 0.1\n",
    "#TODO: Set the number of neuron at input layer, hidden layer and output layers as 2, 2, 1 respectively\n",
    "inputLayerNeurons = 2\n",
    "hiddenLayerNeurons = 2\n",
    "outputLayerNeurons = 1"
   ]
  },
  {
   "cell_type": "code",
   "execution_count": 6,
   "metadata": {},
   "outputs": [],
   "source": [
    "#Random weights and bias initialization\n",
    "#TODO: Initialize the uniform distribution to hiddent weight as (inputLayerNeurons,hiddenLayerNeurons)\n",
    "hidden_weights = np.random.uniform(size=(inputLayerNeurons,hiddenLayerNeurons))\n",
    "#TODO: Initialize the uniform distribution to hiddent bias as (1,hiddenLayerNeurons)\n",
    "hidden_bias =np.random.uniform(size=(1,hiddenLayerNeurons))\n",
    "#TODO: Initialize the uniform distribution to output weight as (hiddenLayerNeurons,outputLayerNeurons)\n",
    "output_weights = np.random.uniform(size=(hiddenLayerNeurons,outputLayerNeurons))\n",
    "#TODO: Initialize the uniform distribution to output bias as (1,outputLayerNeurons)\n",
    "output_bias = np.random.uniform(size=(1,outputLayerNeurons))"
   ]
  },
  {
   "cell_type": "code",
   "execution_count": 7,
   "metadata": {},
   "outputs": [
    {
     "name": "stdout",
     "output_type": "stream",
     "text": [
      "Initial hidden weights: [0.96945401 0.04989426] [0.89075883 0.87508314]\n",
      "Initial hidden biases: [0.62073686 0.12073107]\n",
      "Initial output weights: [0.49141987] [0.26715287]\n",
      "Initial output biases: [0.89842753]\n"
     ]
    }
   ],
   "source": [
    "#Display the hidden_weights, hidden_bias, output_weights, and output_bias\n",
    "print(\"Initial hidden weights: \",end='')\n",
    "print(*hidden_weights)\n",
    "print(\"Initial hidden biases: \",end='')\n",
    "print(*hidden_bias)\n",
    "print(\"Initial output weights: \",end='')\n",
    "print(*output_weights)\n",
    "print(\"Initial output biases: \",end='')\n",
    "print(*output_bias)"
   ]
  },
  {
   "cell_type": "code",
   "execution_count": 8,
   "metadata": {},
   "outputs": [],
   "source": [
    "#Training algorithm\n",
    "#TODO: Iterate over epochs\n",
    "for i in range(10000):\n",
    "\t#Forward Propagation\n",
    "    #TODO: Perform the dot operations between inputs and hidden_weights. Use np.dot() function\n",
    "\thidden_layer_activation = np.dot(inputs,hidden_weights)\n",
    "\thidden_layer_activation += hidden_bias\n",
    "    #TODO: Call the sigmoid method for hidden_layer_activation\n",
    "\thidden_layer_output = sigmoid(hidden_layer_activation)\n",
    "    \n",
    "    #TODO: Perform the dot operations between hidden_layer_output and output_weights. Use np.dot() function\n",
    "\toutput_layer_activation = np.dot(hidden_layer_output, output_weights)\n",
    "\toutput_layer_activation += output_bias\n",
    "    #TODO: Call the sigmoid method for output_layer_activation\n",
    "\tpredicted_output = sigmoid(output_layer_activation)\n",
    "\n",
    "\t#Backpropagation\n",
    "    #TODO: Calculate the error by performing (expected_output - predicted_output)\n",
    "\terror = (expected_output - predicted_output)\n",
    "    #TODO: Calculate the derivate of predicted output by performing error * sigmoid_derivative(predicted_output)\n",
    "\td_predicted_output = error * sigmoid_derivative(predicted_output)\n",
    "\t\n",
    "\terror_hidden_layer = d_predicted_output.dot(output_weights.T)\n",
    "    \n",
    "    #TODO: Calculate the derivate of hidden layer by performing error_hidden_layer * sigmoid_derivative(hidden_layer_output)\n",
    "\td_hidden_layer = error_hidden_layer * sigmoid_derivative(hidden_layer_output)\n",
    "\n",
    "\t#Updating Weights and Biases\n",
    "    #TODO: Update the output weights as output_weights = output_weights + hidden_layer_output.T.dot(d_predicted_output) * lr\n",
    "\toutput_weights = output_weights + hidden_layer_output.T.dot(d_predicted_output) * lr\n",
    "\toutput_bias += np.sum(d_predicted_output,axis=0,keepdims=True) * lr\n",
    "    #TODO: Update the hidden weights as hidden_weights = hidden_weights + inputs.T.dot(d_hidden_layer) * lr\n",
    "\thidden_weights = hidden_weights + inputs.T.dot(d_hidden_layer) * lr\n",
    "\thidden_bias += np.sum(d_hidden_layer,axis=0,keepdims=True) * lr"
   ]
  },
  {
   "cell_type": "code",
   "execution_count": 9,
   "metadata": {},
   "outputs": [
    {
     "name": "stdout",
     "output_type": "stream",
     "text": [
      "Final hidden weights: [4.20417684 2.52866654] [4.04073977 2.77791717]\n",
      "Final hidden bias: [-2.22137013 -1.52659716]\n",
      "Final output weights: [6.36099664] [3.34559533]\n",
      "Final output bias: [-4.32948167]\n"
     ]
    }
   ],
   "source": [
    "#Display the hidden_weights, hidden_bias, output_weights and output_bias after training\n",
    "print(\"Final hidden weights: \",end='')\n",
    "print(*hidden_weights)\n",
    "print(\"Final hidden bias: \",end='')\n",
    "print(*hidden_bias)\n",
    "print(\"Final output weights: \",end='')\n",
    "print(*output_weights)\n",
    "print(\"Final output bias: \",end='')\n",
    "print(*output_bias)"
   ]
  },
  {
   "cell_type": "code",
   "execution_count": 10,
   "metadata": {},
   "outputs": [
    {
     "name": "stdout",
     "output_type": "stream",
     "text": [
      "\n",
      "Output from neural network after 10,000 epochs: [0.04270309] [0.97691742] [0.97607992] [0.99496865]\n"
     ]
    }
   ],
   "source": [
    "#Finally, display the predicted output\n",
    "print(\"\\nOutput from neural network after 10,000 epochs: \",end='')\n",
    "print(*predicted_output)"
   ]
  }
 ],
 "metadata": {
  "kernelspec": {
   "display_name": "Python 3",
   "language": "python",
   "name": "python3"
  },
  "language_info": {
   "codemirror_mode": {
    "name": "ipython",
    "version": 3
   },
   "file_extension": ".py",
   "mimetype": "text/x-python",
   "name": "python",
   "nbconvert_exporter": "python",
   "pygments_lexer": "ipython3",
   "version": "3.8.8"
  }
 },
 "nbformat": 4,
 "nbformat_minor": 2
}
