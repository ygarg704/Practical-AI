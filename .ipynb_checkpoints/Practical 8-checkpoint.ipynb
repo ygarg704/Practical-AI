{
 "cells": [
  {
   "cell_type": "markdown",
   "metadata": {},
   "source": [
    "<h1>Lab 6: Implement a Knapsack problem using Brute Force Method and Dynamic Programming</h1>"
   ]
  },
  {
   "cell_type": "code",
   "execution_count": 1,
   "metadata": {},
   "outputs": [],
   "source": [
    "from itertools import product\n",
    "from collections import namedtuple\n",
    "try:\n",
    "    from itertools import izip\n",
    "except ImportError:\n",
    "    izip = zip"
   ]
  },
  {
   "cell_type": "code",
   "execution_count": 2,
   "metadata": {},
   "outputs": [],
   "source": [
    "Reward = namedtuple('Reward', 'name value weight volume')\n",
    "\n",
    "bagpack =   Reward('bagpack',  0, 25.0, 0.25)\n",
    "\n",
    "items = [Reward('laptop', 3000,  0.3, 0.025),\n",
    "         Reward('printer',   1800,  0.2, 0.015),\n",
    "         Reward('headphone',    2500,  2.0, 0.002)]"
   ]
  },
  {
   "cell_type": "code",
   "execution_count": 3,
   "metadata": {},
   "outputs": [],
   "source": [
    "def tot_value(items_count):\n",
    "    \"\"\"\n",
    "    Given the count of each item in the sack return -1 if they can't be carried or their total value.\n",
    " \n",
    "    (also return the negative of the weight and the volume so taking the max of a series of return\n",
    "    values will minimise the weight if values tie, and minimise the volume if values and weights tie).\n",
    "    \"\"\"\n",
    "    global items, bagpack\n",
    "    weight = sum(n * item.weight for n, item in izip(items_count, items))\n",
    "    volume = sum(n * item.volume for n, item in izip(items_count, items))\n",
    "    if weight <= bagpack.weight and volume <= bagpack.volume:\n",
    "        return sum(n * item.value for n, item in izip(items_count, items)), -weight, -volume    \n",
    "    else:\n",
    "        return -1, 0, 0"
   ]
  },
  {
   "cell_type": "code",
   "execution_count": 4,
   "metadata": {},
   "outputs": [],
   "source": [
    "def knapsack():\n",
    "    global items, bagpack \n",
    "    # find max of any one item\n",
    "    max1 = [min(int(bagpack.weight // item.weight), int(bagpack.volume // item.volume)) for item in items]\n",
    " \n",
    "    # Try all combinations of reward items from 0 up to max1\n",
    "    return max(product(*[range(n + 1) for n in max1]), key=tot_value)"
   ]
  },
  {
   "cell_type": "code",
   "execution_count": 5,
   "metadata": {},
   "outputs": [
    {
     "name": "stdout",
     "output_type": "stream",
     "text": [
      "The maximum value achievable (by exhaustive search) is 54500.\n",
      "  The number of laptop, printer, headphone items to achieve this is: (9, 0, 11), respectively.\n",
      "  The weight to carry is 24.7, and the volume used is 0.247.\n"
     ]
    }
   ],
   "source": [
    "max_items = knapsack()\n",
    "maxvalue, max_weight, max_volume = tot_value(max_items)\n",
    "max_weight = -max_weight\n",
    "max_volume = -max_volume\n",
    " \n",
    "print(\"The maximum value achievable (by exhaustive search) is %g.\" % maxvalue)\n",
    "item_names = \", \".join(item.name for item in items)\n",
    "print(\"  The number of %s items to achieve this is: %s, respectively.\" % (item_names, max_items))\n",
    "print(\"  The weight to carry is %.3g, and the volume used is %.3g.\" % (max_weight, max_volume))"
   ]
  },
  {
   "cell_type": "markdown",
   "metadata": {},
   "source": [
    "<h3>Implement a Knapsack problem using Dynamic Programming. Compare the execution time of brute-force and dynamic programming algorithms</h3>"
   ]
  },
  {
   "cell_type": "markdown",
   "metadata": {},
   "source": [
    "Instead, use a technique known as dynamic programming, which is similar in concept to memoization. Instead of solving a problem outright with a brute-force approach, in dynamic programming one solves subproblems that make up the larger problem, stores those results, and utilizes those stored results to solve the larger problem. As long as the capacity of the knapsack is considered in discrete steps, the problem can be solved with dynamic programming."
   ]
  },
  {
   "cell_type": "code",
   "execution_count": 6,
   "metadata": {},
   "outputs": [],
   "source": [
    "def knapSack(W, wt, val): \n",
    "    n=len(val)\n",
    "    table = [[0 for x in range(W + 1)] for x in range(n + 1)] \n",
    " \n",
    "    for i in range(n + 1): \n",
    "        for j in range(W + 1): \n",
    "            if i == 0 or j == 0: \n",
    "                table[i][j] = 0\n",
    "            elif wt[i-1] <= j: \n",
    "                table[i][j] = max(val[i-1] + table[i-1][j-wt[i-1]],  table[i-1][j]) \n",
    "            else: \n",
    "                table[i][j] = table[i-1][j] \n",
    "   \n",
    "    return table[n][W] "
   ]
  },
  {
   "cell_type": "code",
   "execution_count": 7,
   "metadata": {},
   "outputs": [
    {
     "name": "stdout",
     "output_type": "stream",
     "text": [
      "350\n"
     ]
    }
   ],
   "source": [
    "val = [50,100,150,200]\n",
    "wt = [8,16,32,40]\n",
    "W = 64\n",
    " \n",
    "print(knapSack(W, wt, val))"
   ]
  }
 ],
 "metadata": {
  "kernelspec": {
   "display_name": "Python 3",
   "language": "python",
   "name": "python3"
  },
  "language_info": {
   "codemirror_mode": {
    "name": "ipython",
    "version": 3
   },
   "file_extension": ".py",
   "mimetype": "text/x-python",
   "name": "python",
   "nbconvert_exporter": "python",
   "pygments_lexer": "ipython3",
   "version": "3.8.8"
  }
 },
 "nbformat": 4,
 "nbformat_minor": 2
}
