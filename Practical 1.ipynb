{
 "cells": [
  {
   "cell_type": "markdown",
   "id": "0fc9bc91",
   "metadata": {},
   "source": [
    "# Lab 1: Implementing BFS and DFS"
   ]
  },
  {
   "cell_type": "code",
   "execution_count": 1,
   "id": "7065d0cf",
   "metadata": {},
   "outputs": [],
   "source": [
    "from time import time\n",
    "import sys\n",
    "import matplotlib.pyplot as plt"
   ]
  },
  {
   "cell_type": "code",
   "execution_count": 2,
   "id": "90cd6d06",
   "metadata": {},
   "outputs": [],
   "source": [
    "graphOne = {\n",
    "  0 : [1, 2],\n",
    "  1 : [2, 3],\n",
    "  2 : [3],\n",
    "  3 : []\n",
    "}"
   ]
  },
  {
   "cell_type": "code",
   "execution_count": 3,
   "id": "5ed91e5b",
   "metadata": {},
   "outputs": [],
   "source": [
    "visited = [] \n",
    "queue = [] \n",
    "\n",
    "def bfs(visited, graph, node):\n",
    "  visited.append(node)\n",
    "  queue.append(node)\n",
    "\n",
    "  while queue:\n",
    "    s = queue.pop(0) \n",
    "    print(s) \n",
    "\n",
    "    for neighbour in graph[s]:\n",
    "      if neighbour not in visited:\n",
    "        visited.append(neighbour)\n",
    "        queue.append(neighbour)\n",
    "\n",
    "visitedNodes = []\n",
    "\n",
    "def DFS(visitedNodes, graph, currentNode):\n",
    "    if currentNode not in visitedNodes:\n",
    "        print(currentNode)\n",
    "        visitedNodes.append(currentNode)\n",
    "\n",
    "        for neighbour in graph[currentNode]:\n",
    "            DFS(visitedNodes, graph, neighbour)"
   ]
  },
  {
   "cell_type": "code",
   "execution_count": 4,
   "id": "9374d667",
   "metadata": {},
   "outputs": [
    {
     "name": "stdout",
     "output_type": "stream",
     "text": [
      "\n",
      "Starting node for BFS: 1\n",
      "1\n",
      "2\n",
      "3\n",
      "BFS timed at 0.000789 seconds\n",
      "BFS took 144 bytes\n"
     ]
    }
   ],
   "source": [
    "start = int(input(\"\\nStarting node for BFS: \"))\n",
    "\n",
    "t0 = time()\n",
    "bfs(visited, graphOne, start)\n",
    "t1 = time()\n",
    "\n",
    "dfstime = t1-t0\n",
    "print(\"BFS timed at {:3f} seconds\".format(t1-t0))\n",
    "print(\"BFS took {} bytes\".format(sys.getsizeof(visited) + sys.getsizeof(queue)))"
   ]
  },
  {
   "cell_type": "code",
   "execution_count": 5,
   "id": "dc0a4156",
   "metadata": {},
   "outputs": [
    {
     "name": "stdout",
     "output_type": "stream",
     "text": [
      "\n",
      "Starting node for DFS: 1\n",
      "1\n",
      "2\n",
      "3\n",
      "DFS timed at 0.001 seconds\n",
      "DFS took 88 bytes\n"
     ]
    }
   ],
   "source": [
    "start = int(input(\"\\nStarting node for DFS: \"))\n",
    "\n",
    "t0 = time()\n",
    "DFS(visitedNodes, graphOne, start)\n",
    "t1 = time()\n",
    "\n",
    "bfstime = t1-t0\n",
    "print(\"DFS timed at {:.3f} seconds\".format(t1-t0))\n",
    "print(\"DFS took {} bytes\".format(sys.getsizeof(visitedNodes)))"
   ]
  },
  {
   "cell_type": "code",
   "execution_count": 6,
   "id": "dcaf729a",
   "metadata": {},
   "outputs": [
    {
     "data": {
      "image/png": "[encoded data removed]",
      "text/plain": [
       "<Figure size 720x360 with 1 Axes>"
      ]
     },
     "metadata": {
      "needs_background": "light"
     },
     "output_type": "display_data"
    }
   ],
   "source": [
    "data = {'BFS': bfstime, 'DFS': dfstime}\n",
    "method = list(data.keys())\n",
    "values = list(data.values())\n",
    "  \n",
    "fig = plt.figure(figsize = (10, 5))\n",
    " \n",
    "plt.bar(method, values, width = 0.4)\n",
    "plt.xlabel(\"Search method\")\n",
    "plt.ylabel(\"Time taken\")\n",
    "plt.title(\"Time taken by BFS vs DFS\")\n",
    "plt.show()"
   ]
  },
  {
   "cell_type": "code",
   "execution_count": 7,
   "id": "0a576e43",
   "metadata": {},
   "outputs": [
    {
     "data": {
      "image/png": "[encoded data removed]",
      "text/plain": [
       "<Figure size 720x360 with 1 Axes>"
      ]
     },
     "metadata": {
      "needs_background": "light"
     },
     "output_type": "display_data"
    }
   ],
   "source": [
    "data = {'BFS': (sys.getsizeof(visited) + sys.getsizeof(queue)), 'DFS': (sys.getsizeof(visitedNodes))}\n",
    "method = list(data.keys())\n",
    "values = list(data.values())\n",
    "  \n",
    "fig = plt.figure(figsize = (10, 5))\n",
    " \n",
    "plt.bar(method, values, width = 0.4)\n",
    "plt.xlabel(\"Search method\")\n",
    "plt.ylabel(\"Memory occupied\")\n",
    "plt.title(\"Memory occupied by BFS vs DFS\")\n",
    "plt.show()"
   ]
  }
 ],
 "metadata": {
  "kernelspec": {
   "display_name": "Python 3",
   "language": "python",
   "name": "python3"
  },
  "language_info": {
   "codemirror_mode": {
    "name": "ipython",
    "version": 3
   },
   "file_extension": ".py",
   "mimetype": "text/x-python",
   "name": "python",
   "nbconvert_exporter": "python",
   "pygments_lexer": "ipython3",
   "version": "3.8.8"
  }
 },
 "nbformat": 4,
 "nbformat_minor": 5
}
